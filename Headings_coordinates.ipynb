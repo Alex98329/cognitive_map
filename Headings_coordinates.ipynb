{
  "nbformat": 4,
  "nbformat_minor": 0,
  "metadata": {
    "colab": {
      "provenance": []
    },
    "kernelspec": {
      "name": "python3",
      "display_name": "Python 3"
    },
    "language_info": {
      "name": "python"
    }
  },
  "cells": [
    {
      "cell_type": "code",
      "source": [
        "import json"
      ],
      "metadata": {
        "id": "tyuCwzUiF72y"
      },
      "execution_count": null,
      "outputs": []
    },
    {
      "cell_type": "code",
      "execution_count": null,
      "metadata": {
        "colab": {
          "base_uri": "https://localhost:8080/"
        },
        "id": "sagthE7_FXJB",
        "outputId": "19402cad-c64e-4be9-d400-f72e72fc91f6"
      },
      "outputs": [
        {
          "output_type": "stream",
          "name": "stdout",
          "text": [
            "The 'Locations' field has been removed from each instance and the new JSON file has been saved.\n"
          ]
        }
      ],
      "source": [
        "# Load the original JSON file\n",
        "with open('/content/GPT4_dev_graph_lmm.json', 'r') as file:\n",
        "    data = json.load(file)\n",
        "\n",
        "# Iterate over each instance and remove the \"Locations\" field\n",
        "for instance in data:\n",
        "    if 'Locations' in instance:\n",
        "        instance.pop('Locations')\n",
        "\n",
        "# Save the modified data to a new JSON file\n",
        "with open('/content/GPT4_dev_cmap_llm.json', 'w') as file:\n",
        "    json.dump(data, file, indent=4)\n",
        "\n",
        "print(\"The 'Locations' field has been removed from each instance and the new JSON file has been saved.\")\n"
      ]
    },
    {
      "cell_type": "code",
      "source": [
        "\n",
        "# Load the original JSON file\n",
        "with open('/content/GPT4_dev_graph_lmm.json', 'r') as file:\n",
        "    data = json.load(file)\n",
        "\n",
        "# Create a set to hold unique Instance_id values\n",
        "unique_instance_ids = set()\n",
        "\n",
        "# Iterate over each instance and add the Instance_id to the set\n",
        "for instance in data:\n",
        "    if 'Instance_id' in instance:\n",
        "        unique_instance_ids.add(instance['Instance_id'])\n",
        "\n",
        "# Count the unique instances\n",
        "unique_count = len(unique_instance_ids)\n",
        "\n",
        "print(f\"The number of unique instances is: {unique_count}\")\n"
      ],
      "metadata": {
        "colab": {
          "base_uri": "https://localhost:8080/"
        },
        "id": "USS-quiuG_F4",
        "outputId": "50f64c63-02d2-4e5c-d8c9-165f38e66744"
      },
      "execution_count": null,
      "outputs": [
        {
          "output_type": "stream",
          "name": "stdout",
          "text": [
            "The number of unique instances is: 95\n"
          ]
        }
      ]
    },
    {
      "cell_type": "code",
      "source": [
        "import json\n",
        "from geopy.distance import geodesic\n",
        "\n",
        "# Load the JSON file\n",
        "file_path = '/content/dev_visual_environment (1).json'\n",
        "with open(file_path, 'r') as file:\n",
        "    data = json.load(file)\n",
        "\n",
        "def calculate_intermediate_points(location1, location2, num_points):\n",
        "    \"\"\"\n",
        "    Calculate intermediate points between two locations.\n",
        "\n",
        "    Args:\n",
        "        location1 (tuple): Coordinates (lat, lon) of the first point.\n",
        "        location2 (tuple): Coordinates (lat, lon) of the second point.\n",
        "        num_points (int): Number of intermediate points to generate.\n",
        "\n",
        "    Returns:\n",
        "        list: A list of intermediate points [(lat, lon), ...].\n",
        "    \"\"\"\n",
        "    lat1, lon1 = location1\n",
        "    lat2, lon2 = location2\n",
        "    intermediate_points = []\n",
        "    for i in range(1, num_points + 1):\n",
        "        fraction = i / (num_points + 1)\n",
        "        lat = lat1 + fraction * (lat2 - lat1)\n",
        "        lon = lon1 + fraction * (lon2 - lon1)\n",
        "        intermediate_points.append((lat, lon))\n",
        "    return intermediate_points\n",
        "\n",
        "# Process each instance\n",
        "updated_data = []\n",
        "for instance in data:\n",
        "    instance_id = instance[\"Instance_id\"]\n",
        "    locations = instance[\"Locations\"]\n",
        "    updated_locations = []\n",
        "\n",
        "    for i in range(len(locations) - 1):\n",
        "        loc1 = locations[i]\n",
        "        loc2 = locations[i + 1]\n",
        "\n",
        "        # Calculate the distance between consecutive points\n",
        "        coord1 = (loc1[\"lat\"], loc1[\"lon\"])\n",
        "        coord2 = (loc2[\"lat\"], loc2[\"lon\"])\n",
        "        distance = geodesic(coord1, coord2).meters\n",
        "\n",
        "        # Add the current location\n",
        "        updated_locations.append(loc1)\n",
        "\n",
        "        # Determine the number of intermediate points based on distance\n",
        "        if 100 <= distance < 150:\n",
        "            num_points = 1\n",
        "        elif 150 <= distance < 200:\n",
        "            num_points = 2\n",
        "        elif distance >= 200:\n",
        "            num_points = 3\n",
        "        else:\n",
        "            num_points = 0\n",
        "\n",
        "        # Generate and add intermediate points\n",
        "        if num_points > 0:\n",
        "            intermediate_points = calculate_intermediate_points(coord1, coord2, num_points)\n",
        "            heading = loc1[\"heading\"]\n",
        "            for idx, (lat, lon) in enumerate(intermediate_points, start=1):\n",
        "                intermediate_location = {\n",
        "                    \"lat\": round(lat,7),\n",
        "                    \"lon\": round(lon,7),\n",
        "                    \"heading\": heading,  # Use the heading from the first point\n",
        "                    \"file_name\": f\"{instance_id}_intermediate_{i}_{idx}.jpg\"\n",
        "                }\n",
        "                updated_locations.append(intermediate_location)\n",
        "\n",
        "    # Add the last location of the instance\n",
        "    updated_locations.append(locations[-1])\n",
        "    updated_data.append({\n",
        "        \"Instance_id\": instance_id,\n",
        "        \"Locations\": updated_locations\n",
        "    })\n",
        "\n",
        "# Save the updated data\n",
        "output_path = '/content/dev_visual_environment.json'\n",
        "with open(output_path, 'w') as output_file:\n",
        "    json.dump(updated_data, output_file, indent=4)\n",
        "\n",
        "output_path\n",
        "\n"
      ],
      "metadata": {
        "colab": {
          "base_uri": "https://localhost:8080/",
          "height": 38
        },
        "id": "IZVRjenWxWp0",
        "outputId": "c643d2d2-11f4-4d30-d699-199151e56121"
      },
      "execution_count": null,
      "outputs": [
        {
          "output_type": "execute_result",
          "data": {
            "text/plain": [
              "'/content/dev_visual_environment.json'"
            ],
            "application/vnd.google.colaboratory.intrinsic+json": {
              "type": "string"
            }
          },
          "metadata": {},
          "execution_count": 1
        }
      ]
    },
    {
      "cell_type": "code",
      "source": [
        "# Remove \"file_name\" from all locations in the updated data\n",
        "for instance in updated_data:\n",
        "    for location in instance[\"Locations\"]:\n",
        "        location.pop(\"file_name\", None)  # Remove the \"file_name\" key if it exists\n",
        "\n",
        "# Save the updated data without \"file_name\"\n",
        "output_path_no_filename = '/content/dev_visual_environment.json'\n",
        "with open(output_path_no_filename, 'w') as output_file:\n",
        "    json.dump(updated_data, output_file, indent=4)\n",
        "\n",
        "output_path_no_filename\n"
      ],
      "metadata": {
        "colab": {
          "base_uri": "https://localhost:8080/",
          "height": 38
        },
        "id": "9oCnCqux4-3u",
        "outputId": "e24c9f4f-d2bf-4e96-f82e-7426afc961ec"
      },
      "execution_count": null,
      "outputs": [
        {
          "output_type": "execute_result",
          "data": {
            "text/plain": [
              "'/content/dev_visual_environment.json'"
            ],
            "application/vnd.google.colaboratory.intrinsic+json": {
              "type": "string"
            }
          },
          "metadata": {},
          "execution_count": 2
        }
      ]
    },
    {
      "cell_type": "code",
      "source": [
        "# Load the JSON file\n",
        "file_path = '/content/dev_visual_environment.json'\n",
        "with open(file_path, 'r') as file:\n",
        "    data = json.load(file)\n",
        "\n",
        "# Function to calculate directions based on headings\n",
        "def calculate_directions(routes):\n",
        "    results = []\n",
        "    for route in routes:\n",
        "        instance_id = route[\"Instance_id\"]\n",
        "        locations = route[\"Locations\"]\n",
        "\n",
        "        if len(locations) < 2:\n",
        "            continue  # Skip if fewer than 2 locations\n",
        "\n",
        "        directions = [\"Forward\"]  # Start every route with \"Forward\"\n",
        "\n",
        "        for i in range(1, len(locations)):\n",
        "            current_heading = locations[i - 1][\"heading\"]\n",
        "            next_heading = locations[i][\"heading\"]\n",
        "\n",
        "            # Calculate heading difference\n",
        "            diff = (next_heading - current_heading) % 360\n",
        "            if diff > 180:\n",
        "                diff -= 360  # Normalize to -180 to 180 range\n",
        "\n",
        "            # Determine direction\n",
        "            if diff > 15:  # Right turn\n",
        "                directions.append(\"Right\")\n",
        "            elif diff < -15:  # Left turn\n",
        "                directions.append(\"Left\")\n",
        "            else:  # Minor change treated as Forward\n",
        "                directions.append(\"Forward\")\n",
        "\n",
        "        # Remove the last direction from the list\n",
        "        if directions:\n",
        "            directions.pop()  # Remove the last item in the list\n",
        "\n",
        "        # Append the result for this instance\n",
        "        results.append({\n",
        "            \"Instance_id\": instance_id,\n",
        "            \"Directions\": directions\n",
        "        })\n",
        "\n",
        "    return results\n",
        "\n",
        "# Process directions from the data\n",
        "routes = data  # Assuming the top-level JSON contains the routes\n",
        "directions_output = calculate_directions(routes)\n",
        "\n",
        "# Save results to a new JSON file\n",
        "output_path = '/content/dev_visual_environment_directions.json'\n",
        "with open(output_path, 'w') as output_file:\n",
        "    json.dump(directions_output, output_file, indent=4)\n",
        "\n",
        "output_path"
      ],
      "metadata": {
        "colab": {
          "base_uri": "https://localhost:8080/",
          "height": 38
        },
        "id": "NB5WY12uejmd",
        "outputId": "9f479368-7062-4aa2-d607-b863bb07da7c"
      },
      "execution_count": null,
      "outputs": [
        {
          "output_type": "execute_result",
          "data": {
            "text/plain": [
              "'/content/dev_visual_environment_directions.json'"
            ],
            "application/vnd.google.colaboratory.intrinsic+json": {
              "type": "string"
            }
          },
          "metadata": {},
          "execution_count": 3
        }
      ]
    }
  ]
}